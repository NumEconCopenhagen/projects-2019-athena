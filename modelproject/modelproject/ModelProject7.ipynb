{
 "cells": [
  {
   "cell_type": "code",
   "execution_count": 14,
   "metadata": {},
   "outputs": [],
   "source": [
    "import numpy as np\n",
    "from scipy import linalg\n",
    "from scipy import optimize\n",
    "import sympy as sm\n",
    "%matplotlib inline\n",
    "import matplotlib.pyplot as plt\n",
    "import ipywidgets as widgets"
   ]
  },
  {
   "cell_type": "markdown",
   "metadata": {},
   "source": [
    "The following Model Project is based on the classic Solow model as we know it from Macroeconomics. First, we will model the Solow model in its simplest form. Next we will build on this simple Solow model by adding Total Factor Productivity (TFP).\n",
    "\n",
    "1) Our model is defined by the framework below. Note that TFP is not part of the model yet and that we are assuming that we are in a small closed economy:"
   ]
  },
  {
   "cell_type": "markdown",
   "metadata": {},
   "source": [
    "A small closed economy can be described by following equations:\n",
    "\\\\[ Y_t = BK_t^\\alpha L_t^{1-\\alpha},\\alpha\\in(0,1) \\\\]\n",
    "\n",
    "\\\\[ S_{t+1} = sY_t, s\\in(0,1) \\\\]\n",
    "\n",
    "\\\\[ L_{t+1} = (1+n)L_t, n>-1 \\\\]\n",
    "\n",
    "\n",
    "where $Y_t = F(K_t,L_t)$ is GDP; $K_t$ is capital; $L_t$ is labor (growing with a constant rate of $n$); $S_t$ is total savings; s is the savings rate and $k_t = K_t/L_t$. Note also that $B$, alpha, $s$ and $n$ are exogenous parameters.\n",
    "\n",
    "The transition equation, which shows how capital is accumulated, then becomes\n",
    "\n",
    "\\\\[ k_{t+1} = \\frac{1}{1+n}(sBk_t^{\\alpha}+(1-\\delta)k_t), 0<\\delta =<1\\\\]\n",
    "\n",
    "where, in addition to above defined parameters, $\\delta$ is depreciation of capital.\n",
    "\n",
    "**Steady state** for $k_t$ and $y_t$ is derived below"
   ]
  },
  {
   "cell_type": "code",
   "execution_count": 15,
   "metadata": {
    "scrolled": true
   },
   "outputs": [
    {
     "name": "stdout",
     "output_type": "stream",
     "text": [
      "Steady state of k is\n"
     ]
    },
    {
     "data": {
      "image/png": "[encoded data removed]",
      "text/latex": [
       "$$\\left [ \\left(\\frac{B s}{\\delta + n}\\right)^{- \\frac{1}{\\alpha - 1}}\\right ]$$"
      ],
      "text/plain": [
       "⎡        -1  ⎤\n",
       "⎢       ─────⎥\n",
       "⎢       α - 1⎥\n",
       "⎢⎛ B⋅s ⎞     ⎥\n",
       "⎢⎜─────⎟     ⎥\n",
       "⎣⎝δ + n⎠     ⎦"
      ]
     },
     "execution_count": 15,
     "metadata": {},
     "output_type": "execute_result"
    }
   ],
   "source": [
    "#Below is run to get LaTex format\n",
    "sm.init_printing(use_unicode=True)\n",
    "\n",
    "\n",
    "# Define varibles\n",
    "k = sm.symbols('k')\n",
    "y = sm.symbols('y')\n",
    "K = sm.symbols('K')\n",
    "B = sm.symbols('B')\n",
    "L = sm.symbols('L')\n",
    "Y = sm.symbols('Y')\n",
    "alpha = sm.symbols('alpha')\n",
    "delta = sm.symbols('delta')\n",
    "s = sm.symbols('s')\n",
    "n = sm.symbols('n')\n",
    "\n",
    "\n",
    "# Define transition equation and solve steady state for capital per capital\n",
    "f=B*k**alpha\n",
    "transition1=sm.Eq(k,((1)/(1+n)*(s*B*(k**alpha)+(1-delta)*k)))\n",
    "steadystate_k1=sm.solve(transition1,k)\n",
    "print('Steady state of k is')\n",
    "steadystate_k1\n"
   ]
  },
  {
   "cell_type": "code",
   "execution_count": 16,
   "metadata": {
    "scrolled": true
   },
   "outputs": [
    {
     "name": "stdout",
     "output_type": "stream",
     "text": [
      "Steady state for y is\n"
     ]
    },
    {
     "data": {
      "image/png": "[encoded data removed]",
      "text/latex": [
       "$$B \\left(\\left(\\frac{B s}{\\delta + n}\\right)^{- \\frac{1}{\\alpha - 1}}\\right)^{\\alpha}$$"
      ],
      "text/plain": [
       "                α\n",
       "  ⎛        -1  ⎞ \n",
       "  ⎜       ─────⎟ \n",
       "  ⎜       α - 1⎟ \n",
       "  ⎜⎛ B⋅s ⎞     ⎟ \n",
       "B⋅⎜⎜─────⎟     ⎟ \n",
       "  ⎝⎝δ + n⎠     ⎠ "
      ]
     },
     "execution_count": 16,
     "metadata": {},
     "output_type": "execute_result"
    }
   ],
   "source": [
    "y=B*k**alpha\n",
    "print('Steady state for y is')\n",
    "steadystate_y1=y.subs({'k':steadystate_k1[0]})\n",
    "steadystate_y1"
   ]
  },
  {
   "cell_type": "markdown",
   "metadata": {},
   "source": [
    "Above we have found the expression for steady state in capital per capita and income per capita. We test our steady state expressions by plugging in arbitrary values for each parameter in each expression: $B=1.5$, $s=0.20$, $n=2\\%$, $\\alpha=\\frac{1}{3}$ and $\\delta=1$.  We use a simple function: solution(x), to retrieve a specific steady state value for each. See below."
   ]
  },
  {
   "cell_type": "markdown",
   "metadata": {},
   "source": [
    "We notice that this value seems plausible and proceed by solving for optimal steady states using more sophisticated functions. Again we start by choosing arbitrary parameter values."
   ]
  },
  {
   "cell_type": "code",
   "execution_count": 18,
   "metadata": {},
   "outputs": [
    {
     "name": "stdout",
     "output_type": "stream",
     "text": [
      "the steady state for k is 2.74564722358436\n"
     ]
    }
   ],
   "source": [
    "s=0.2\n",
    "n=0.02\n",
    "delta=1\n",
    "alpha=1/3\n",
    "B=10\n",
    "\n",
    "opt_steadystate_k1= lambda steadystate_k1: steadystate_k1 - ( ((1)/(1+n)*(s*B*(steadystate_k1)**alpha+(1-delta)*steadystate_k1)) )\n",
    "result1 = optimize.root_scalar(opt_steadystate_k1,bracket=[0.1,10],method='brentq')\n",
    "\n",
    "print('the steady state for k is', result1.root)\n"
   ]
  },
  {
   "cell_type": "markdown",
   "metadata": {},
   "source": [
    "Given the specified parameter values, steady state of capital per capita is 2.75."
   ]
  },
  {
   "cell_type": "markdown",
   "metadata": {},
   "source": [
    "We now wish to investigate how the steady state value of capital per capita changes when the savings rate changes by an arbitrary amount."
   ]
  },
  {
   "cell_type": "code",
   "execution_count": 19,
   "metadata": {},
   "outputs": [
    {
     "name": "stdout",
     "output_type": "stream",
     "text": [
      "for savings = 0.050 the steady state for k is 0.343205902947649\n",
      "for savings = 0.100 the steady state for k is 0.9707328852712966\n",
      "for savings = 0.200 the steady state for k is 2.7456472235841\n",
      "for savings = 0.250 the steady state for k is 3.8371586463550824\n",
      "for savings = 0.400 the steady state for k is 7.765863082169994\n",
      "for savings = 0.500 the steady state for k is 10.853123597305084\n",
      "for savings = 0.750 the steady state for k is 19.938461196567655\n",
      "for savings = 0.900 the steady state for k is 26.209787902323733\n"
     ]
    }
   ],
   "source": [
    "n=0.02\n",
    "delta=1\n",
    "alpha=1/3\n",
    "B=10\n",
    "\n",
    "savings = [0.05,0.1,0.2,0.25,0.4,0.5,0.75,0.9]\n",
    "for s1 in savings:\n",
    "    obj_kss = lambda steadystate_k1: steadystate_k1 - ((1)/(1+n)*(s1*B*(steadystate_k1)**alpha+(1-delta)*steadystate_k1))\n",
    "    result1 = optimize.root_scalar(obj_kss,bracket=[0.1,1000],method='brentq')\n",
    "    print(f'for savings = {s1:.3f} the steady state for k is',result1.root)    \n",
    "    "
   ]
  },
  {
   "cell_type": "markdown",
   "metadata": {},
   "source": [
    "From above result it is instantly clear that the savings rate, s, has a substantial impact on the capital accumulation in the society. Below is a visualisation of how the parameteres impact the accumulation of capital as well as income.\n",
    "\n",
    "In order to create this visualisation, our next step is to create an interactive graph plotting the transition curve and the 45 degree line including sliders for each of the parameters in the model. The purpose of this is to see the effect on the steady state point from changing one of more parameters. In order to do so, we first define the range of each slider. Then we set up the interactive figure and finally we set up the appropriate sliders."
   ]
  },
  {
   "cell_type": "code",
   "execution_count": 20,
   "metadata": {},
   "outputs": [
    {
     "data": {
      "application/vnd.jupyter.widget-view+json": {
       "model_id": "2789bde361994b7c8bcfe688680162c5",
       "version_major": 2,
       "version_minor": 0
      },
      "text/plain": [
       "interactive(children=(FloatSlider(value=10.0, description='$B$', max=50.0, step=1.0), FloatSlider(value=0.2, d…"
      ]
     },
     "metadata": {},
     "output_type": "display_data"
    }
   ],
   "source": [
    "# We define below the possible numeric intervals of the parameters\n",
    "alpha = np.arange(0,1)\n",
    "s = np.arange(0,1)\n",
    "k = np.arange(100)\n",
    "B = np.arange(0,100)\n",
    "n = np.arange(0,0.2)\n",
    "delta = np.arange(0,1.1)\n",
    "\n",
    "def interactive_transition1(B,s,alpha,n,delta,k):\n",
    "\n",
    "    k0 = ((1)/(1+n)*(s*B*(k**alpha)+(1-delta)*k)) \n",
    "    m0 = k\n",
    "    #plt.plot(m)\n",
    "    \n",
    "    fig = plt.figure(dpi=90)\n",
    "    ax = fig.add_subplot(1,1,1)\n",
    "    ax.plot(k0, label = 'Capital')\n",
    "    ax.plot(m0, label = '45 degrees line')\n",
    "    ax.set_xlim([0,15]) # fixed x range\n",
    "    ax.set_ylim([0,15]) # fixed y range\n",
    "    plt.xlabel('k in period t')\n",
    "    plt.ylabel('k in period t+1')\n",
    "    plt.title('Transition diagram')\n",
    "    ax.grid(True)\n",
    "    ax.legend(loc='upper left')\n",
    "    \n",
    "    y0 = B*((1)/(1+n)*(s*B*(k**alpha)+(1-delta)*k))**alpha\n",
    "    \n",
    "    \n",
    "    fig = plt.figure(dpi=90)\n",
    "    ax = fig.add_subplot(1,1,1)\n",
    "    ax.plot(y0, label = 'Income per capita')\n",
    "    ax.set_xlim([0,15]) # fixed x range\n",
    "    ax.set_ylim([0,100]) # fixed y range\n",
    "    plt.xlabel('k')\n",
    "    plt.ylabel('y')\n",
    "    plt.title('Income per capita')\n",
    "    ax.grid(True)\n",
    "    ax.legend(loc='upper left')\n",
    "\n",
    "widgets.interact(interactive_transition1,\n",
    "    #k1=widgets.fixed(k1),\n",
    "    alpha=widgets.FloatSlider(description=\"$alpha$\", min=0, max=1, step=0.005, value=0.33),\n",
    "    s=widgets.FloatSlider(description=\"$s$\", min=0, max=0.7, step=0.005, value=0.2),\n",
    "    B=widgets.FloatSlider(description=\"$B$\", min=0, max=50, step=1, value=10),\n",
    "    n=widgets.FloatSlider(description=\"$n$\", min=0, max=0.2, step=0.01, value=0.02),\n",
    "    delta=widgets.FloatSlider(description=\"$delta$\", min=0, max=1, step=0.01, value=0.4),\n",
    "    k=widgets.fixed(k)\n",
    ");"
   ]
  },
  {
   "cell_type": "markdown",
   "metadata": {},
   "source": [
    "In the figure we notice that as B, s and alpha increases, so does steady state for capital accumulation. Conversely, when n and delta increase, steady state for capital accumulation decreases."
   ]
  },
  {
   "cell_type": "markdown",
   "metadata": {},
   "source": [
    "**2) We now consider the Solow-model with a productive externality per worker where:**\n",
    "\n",
    "A small closed economy can be described by following equations:\n",
    "\\\\[ Y_t = A_tK_t^\\alpha L_t^{1-\\alpha},\\alpha\\in(0,1) \\\\]\n",
    "\n",
    "\\\\[ A_t = Bk_t^{\\phi(1-\\alpha)}, B>0,\\phi\\in(0,1) \\\\]\n",
    "\n",
    "\\\\[ K_{t+1} = sY_t, s\\in(0,1) \\\\]\n",
    "\n",
    "\\\\[ L_{t+1} = (1+n)L_t, n>-1 \\\\]\n",
    "\n",
    "\n",
    "where $K_t$ is capital; $L_t$ is labor (growing with a constant rate of $n$); $A_t$ is total factor productivity; $Y_t = F(K_t,A_t,L_t)$ is GDP; $k_t = K_t/L_t$ and s is the savings rate. \n",
    "\n",
    "Note that TFP is dependent on capital accumulation and therefore an increase in capital effects income accumulation via 2 channels: (i) directly through an increase in k and (ii) indirectly through an increase in productivity. Hence all increases in capital will have a larger effect on income accumulation in this model compared to the simple Solow model in part 1. \n",
    "\n",
    "The transition equation then becomes\n",
    "\n",
    "\\\\[ k_{t+1} = (\\frac{sB}{1+n})k_t^{\\alpha+\\phi*(1-\\alpha)}\\\\]\n",
    "\n",
    "**Steady state** for $k_t$ and $y_t$ is derived below"
   ]
  },
  {
   "cell_type": "code",
   "execution_count": 21,
   "metadata": {},
   "outputs": [],
   "source": [
    "#Below is run to get LaTex format\n",
    "sm.init_printing(use_unicode=True)"
   ]
  },
  {
   "cell_type": "code",
   "execution_count": 22,
   "metadata": {},
   "outputs": [
    {
     "name": "stdout",
     "output_type": "stream",
     "text": [
      "Steady state of k is\n"
     ]
    },
    {
     "data": {
      "image/png": "[encoded data removed]",
      "text/latex": [
       "$$\\left [ \\left(\\frac{B s}{n + 1}\\right)^{\\frac{1}{\\alpha \\phi - \\alpha - \\phi + 1}}\\right ]$$"
      ],
      "text/plain": [
       "⎡              1       ⎤\n",
       "⎢       ───────────────⎥\n",
       "⎢       α⋅φ - α - φ + 1⎥\n",
       "⎢⎛ B⋅s ⎞               ⎥\n",
       "⎢⎜─────⎟               ⎥\n",
       "⎣⎝n + 1⎠               ⎦"
      ]
     },
     "execution_count": 22,
     "metadata": {},
     "output_type": "execute_result"
    }
   ],
   "source": [
    "# Define additional variables\n",
    "# Define varibles\n",
    "k = sm.symbols('k')\n",
    "y = sm.symbols('y')\n",
    "K = sm.symbols('K')\n",
    "B = sm.symbols('B')\n",
    "L = sm.symbols('L')\n",
    "Y = sm.symbols('Y')\n",
    "alpha = sm.symbols('alpha')\n",
    "delta = sm.symbols('delta')\n",
    "s = sm.symbols('s')\n",
    "n = sm.symbols('n')\n",
    "A = sm.symbols('A')\n",
    "phi = sm.symbols('phi')\n",
    "\n",
    "# Define income equation and transition equation and solve steady state for capital per capita\n",
    "y=B*k**(alpha + phi*(1-alpha))\n",
    "transition=sm.Eq(k,((s*B)/(1+n)*k**(alpha+phi*(1-alpha))))\n",
    "steadystate_k=sm.solve(transition,k)\n",
    "print('Steady state of k is')\n",
    "steadystate_k\n"
   ]
  },
  {
   "cell_type": "code",
   "execution_count": 23,
   "metadata": {
    "scrolled": true
   },
   "outputs": [
    {
     "name": "stdout",
     "output_type": "stream",
     "text": [
      "Steady state for y is\n"
     ]
    },
    {
     "data": {
      "image/png": "[encoded data removed]",
      "text/latex": [
       "$$B \\left(\\left(\\frac{B s}{n + 1}\\right)^{\\frac{1}{\\alpha \\phi - \\alpha - \\phi + 1}}\\right)^{\\alpha + \\phi \\left(- \\alpha + 1\\right)}$$"
      ],
      "text/plain": [
       "                          α + φ⋅(-α + 1)\n",
       "  ⎛              1       ⎞              \n",
       "  ⎜       ───────────────⎟              \n",
       "  ⎜       α⋅φ - α - φ + 1⎟              \n",
       "  ⎜⎛ B⋅s ⎞               ⎟              \n",
       "B⋅⎜⎜─────⎟               ⎟              \n",
       "  ⎝⎝n + 1⎠               ⎠              "
      ]
     },
     "execution_count": 23,
     "metadata": {},
     "output_type": "execute_result"
    }
   ],
   "source": [
    "print('Steady state for y is')\n",
    "steadystate_y=y.subs({'k':steadystate_k[0]})\n",
    "steadystate_y"
   ]
  },
  {
   "cell_type": "markdown",
   "metadata": {},
   "source": [
    "Above we have found the expression for steady state in capital per capita and income per capits. We test our steady state expressions by plugging in arbitrary values for each parameter in each expression: $B=10$, $s=0.20$, $n=2\\%$, $\\alpha=\\frac{1}{3}$, $\\phi=0.56$.  We use a simple function: solution(x), to retrieve a specific steady state value for each. See below."
   ]
  },
  {
   "cell_type": "markdown",
   "metadata": {},
   "source": [
    "We notice that this value seems plausible and proceed by solving for optimal steady states using more sophisticated functions. Again we start by choosing arbitrary parameter values."
   ]
  },
  {
   "cell_type": "code",
   "execution_count": 24,
   "metadata": {},
   "outputs": [
    {
     "name": "stdout",
     "output_type": "stream",
     "text": [
      "Inserting the values gives the steadystate value of:\n"
     ]
    },
    {
     "data": {
      "image/png": "[encoded data removed]",
      "text/latex": [
       "$$\\left [ 5.383622007028103\\right ]$$"
      ],
      "text/plain": [
       "[5.383622007028103]"
      ]
     },
     "execution_count": 24,
     "metadata": {},
     "output_type": "execute_result"
    }
   ],
   "source": [
    "print('Inserting the values gives the steadystate value of:')\n",
    "Solution=sm.lambdify((B,s,n,alpha,phi),steadystate_k)\n",
    "Solution(10, 0.2, 0.02, 1/3, 0.4)"
   ]
  },
  {
   "cell_type": "code",
   "execution_count": 25,
   "metadata": {},
   "outputs": [
    {
     "name": "stdout",
     "output_type": "stream",
     "text": [
      "the steady state for k is 5.383622007028104\n"
     ]
    }
   ],
   "source": [
    "s=0.2\n",
    "n=0.02\n",
    "phi=0.4\n",
    "alpha=1/3\n",
    "B=10\n",
    "\n",
    "f = lambda k: A*k**alpha\n",
    "opt_steadystate_k= lambda steadystate_k: steadystate_k - ( ((s*B)/(1+n))*steadystate_k**(alpha+phi*(1-alpha)) )\n",
    "result = optimize.root_scalar(opt_steadystate_k,bracket=[0.1,10],method='brentq')\n",
    "\n",
    "print('the steady state for k is', result.root)\n"
   ]
  },
  {
   "cell_type": "markdown",
   "metadata": {},
   "source": [
    "Given the specified parameter values, steady state of capital per capita is 5.38."
   ]
  },
  {
   "cell_type": "markdown",
   "metadata": {},
   "source": [
    "We now wish to investigate how the steady state value of capital per capita changes when the savings rate changes by an arbitrary amount."
   ]
  },
  {
   "cell_type": "code",
   "execution_count": 26,
   "metadata": {
    "scrolled": true
   },
   "outputs": [
    {
     "name": "stdout",
     "output_type": "stream",
     "text": [
      "for s = 0.050 the steady state for k is 0.16823818771955754\n",
      "for s = 0.100 the steady state for k is 0.951698907128675\n",
      "for s = 0.200 the steady state for k is 5.383622007028105\n",
      "for s = 0.250 the steady state for k is 9.40480060381148\n",
      "for s = 0.400 the steady state for k is 30.4543650281175\n",
      "for s = 0.500 the steady state for k is 53.20158626129952\n",
      "for s = 0.750 the steady state for k is 146.60633232770348\n",
      "for s = 0.900 the steady state for k is 231.2628344322685\n"
     ]
    }
   ],
   "source": [
    "n=0.02\n",
    "phi=0.4\n",
    "alpha=1/3\n",
    "B=10\n",
    "savings_rate = [0.05,0.1,0.2,0.25,0.4,0.5,0.75,0.9]\n",
    "for s1 in savings_rate:\n",
    "    f = lambda k: A*k**alpha\n",
    "    opt_steadystate_k= lambda steadystate_k: steadystate_k - ( ((s1*B)/(1+n))*steadystate_k**(alpha+phi*(1-alpha)) )\n",
    "    result = optimize.root_scalar(opt_steadystate_k,bracket=[0.1,1000],method='brentq')\n",
    "    print(f'for s = {s1:.3f} the steady state for k is',result.root)\n"
   ]
  },
  {
   "cell_type": "markdown",
   "metadata": {},
   "source": [
    "Similar to part 1, it is instantly clear that the savings rate, s, has a substantial impact on the capital accumulation in the society. Below is a visualisation of how the parameteres impact the accumulation of capital as well as income.\n",
    "\n",
    "Our next step is to create an interactive graph plotting the transition curve and the 45 degree line including sliders for each of the parameters in the model. The purpose of this is to see the effect on the steady state point from changing one of more parameters. In order to do so, we first define the range of each slider. Then we set up the interactive figure and finally we set up the appropriate sliders."
   ]
  },
  {
   "cell_type": "code",
   "execution_count": 27,
   "metadata": {},
   "outputs": [
    {
     "data": {
      "application/vnd.jupyter.widget-view+json": {
       "model_id": "625c614ef08d4e219e45f7b87caf7762",
       "version_major": 2,
       "version_minor": 0
      },
      "text/plain": [
       "interactive(children=(FloatSlider(value=10.0, description='$B$', max=50.0, step=1.0), FloatSlider(value=0.2, d…"
      ]
     },
     "metadata": {},
     "output_type": "display_data"
    }
   ],
   "source": [
    "alpha = np.arange(0,1)\n",
    "s = np.arange(0,1)\n",
    "k = np.arange(100)\n",
    "B = np.arange(0,100)\n",
    "n = np.arange(0,0.2)\n",
    "phi = np.arange(0,1)\n",
    "y = np.arange(100)\n",
    "\n",
    "def interactive_transition(B,s,alpha,n,phi,k):\n",
    "\n",
    "\n",
    "    k1 = ( ((s*B)/(1+n))*k**(alpha+phi*(1-alpha)) )\n",
    "    m = k\n",
    "    #plt.plot(m)\n",
    "    \n",
    "  \n",
    "    \n",
    "    fig = plt.figure(dpi=90)\n",
    "    ax = fig.add_subplot(1,1,1)\n",
    "    ax.plot(k1, label = 'Capital')\n",
    "    ax.plot(m, label = '45 degrees line')\n",
    "    ax.set_xlim([0,15]) # fixed x range\n",
    "    ax.set_ylim([0,15]) # fixed y range\n",
    "    plt.xlabel('k in period t')\n",
    "    plt.ylabel('k in period t+1')\n",
    "    plt.title('Transition diagram')\n",
    "    ax.grid(True)\n",
    "    ax.legend(loc='upper left')\n",
    "    \n",
    "    y1=B*( ((s*B)/(1+n))*k**(alpha+phi*(1-alpha)) )**(alpha + phi*(1-alpha))\n",
    "    \n",
    "    fig = plt.figure(dpi=90)\n",
    "    ax = fig.add_subplot(1,1,1)\n",
    "    ax.plot(y1, label='Income per capita')\n",
    "    ax.set_xlim([0,15]) # fixed x range\n",
    "    ax.set_ylim([0,100]) # fixed y range\n",
    "    plt.xlabel('k ')\n",
    "    plt.ylabel('y ')\n",
    "    plt.title('Income per capita')\n",
    "    ax.grid(True)\n",
    "    ax.legend(loc='upper left')\n",
    "\n",
    "widgets.interact(interactive_transition,\n",
    "    #k1=widgets.fixed(k1),\n",
    "    alpha=widgets.FloatSlider(description=\"$alpha$\", min=0, max=1, step=0.005, value=0.33),\n",
    "    s=widgets.FloatSlider(description=\"$s$\", min=0, max=0.7, step=0.005, value=0.2),\n",
    "    B=widgets.FloatSlider(description=\"$B$\", min=0, max=50, step=1, value=10),\n",
    "    n=widgets.FloatSlider(description=\"$n$\", min=0, max=0.2, step=0.01, value=0.02),\n",
    "    phi=widgets.FloatSlider(description=\"$phi$\", min=0, max=1, step=0.01, value=0.56),\n",
    "    k=widgets.fixed(k)\n",
    ");"
   ]
  },
  {
   "cell_type": "markdown",
   "metadata": {},
   "source": [
    "Similar to part 1, we notice that as B, s, alpha and phi increase, so does steady state for capital accumulation. Conversely, when n increases, steady state for capital accumulation decreases. Importantly we notice that when total factor productivity is dependent on k, all changes in either k or the productivity factor, B, they will have a significantly higher effect on capital accumulation and thereby income. \n",
    "\n",
    "We can therefore conclude that an economy with a productive externality per capita will increase capital accumulation."
   ]
  },
  {
   "cell_type": "code",
   "execution_count": null,
   "metadata": {},
   "outputs": [],
   "source": []
  }
 ],
 "metadata": {
  "kernelspec": {
   "display_name": "Python 3",
   "language": "python",
   "name": "python3"
  },
  "language_info": {
   "codemirror_mode": {
    "name": "ipython",
    "version": 3
   },
   "file_extension": ".py",
   "mimetype": "text/x-python",
   "name": "python",
   "nbconvert_exporter": "python",
   "pygments_lexer": "ipython3",
   "version": "3.7.3"
  }
 },
 "nbformat": 4,
 "nbformat_minor": 2
}
